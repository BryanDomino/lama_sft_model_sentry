{
 "cells": [
  {
   "cell_type": "code",
   "execution_count": 1,
   "id": "6ecb2d83",
   "metadata": {},
   "outputs": [],
   "source": [
    "import mlflow\n",
    "import transformers\n",
    "\n",
    "class MyModel(mlflow.pyfunc.PythonModel):\n",
    "    \n",
    "    def load_context(self, context):\n",
    "        import os\n",
    "        import torch\n",
    "        from transformers import (\n",
    "            AutoModelForCausalLM,\n",
    "            AutoTokenizer,\n",
    "            BitsAndBytesConfig\n",
    "        )\n",
    "        \n",
    "        device = 'cuda' if torch.cuda.is_available() else 'cpu'\n",
    "\n",
    "        self.project_id = os.listdir('/artifacts/mlflow')[0]\n",
    "        prefix = f\"{self.project_id}/version0\"\n",
    "        compute_dtype = getattr(torch, \"float16\")\n",
    "        quant_config = BitsAndBytesConfig(load_in_4bit=True,\n",
    "                                          bnb_4bit_quant_type=\"nf4\",\n",
    "                                          bnb_4bit_compute_dtype=compute_dtype,\n",
    "                                          bnb_4bit_use_double_quant=False)\n",
    "\n",
    "        ft_model_name = \"final_merged_checkpoint\"\n",
    "        model_cache = \"llama2-model-cache\"\n",
    "        model_tokenizer_path = f\"/artifacts/mlflow/{prefix}/{ft_model_name}\"\n",
    "        \n",
    "        self.model = AutoModelForCausalLM.from_pretrained(model_tokenizer_path,\n",
    "                                                          cache_dir=f\"/artifacts/mlflow/{prefix}/{model_cache}/\",\n",
    "                                                          quantization_config=quant_config,\n",
    "                                                          device_map=\"auto\"\n",
    "                                                          #device=\"0\"\n",
    "                                                          )\n",
    "        self.model.config.use_cache = False\n",
    "        self.model.config.pretraining_tp = 1\n",
    "\n",
    "        # Load tokenizer\n",
    "        self.tokenizer = AutoTokenizer.from_pretrained(model_tokenizer_path, \n",
    "                                                       cache_dir=f\"/artifacts/mlflow/{prefix}/{model_cache}/\",\n",
    "                                                       trust_remote_code=True)\n",
    "        self.tokenizer.pad_token = self.tokenizer.eos_token\n",
    "        self.tokenizer.padding_side = \"right\"\n",
    "    \n",
    "    \n",
    "    def predict(self, context, model_input, params=None):\n",
    "        \"\"\"\n",
    "        This method generates prediction for the given input.\n",
    "        \"\"\"\n",
    "        prompt = model_input[\"prompt\"]\n",
    "\n",
    "        if prompt is None:\n",
    "            return 'Please provide a prompt.'\n",
    "        \n",
    "        prompt_template = f\"<s>[INST] {{dialogue}} [/INST]\"\n",
    "            \n",
    "\n",
    "        user_input = f\"<s>[INST] {prompt} [/INST]\"\n",
    "        \n",
    "        tokens = self.tokenizer.convert_ids_to_tokens(self.tokenizer.encode(user_input))\n",
    "        input_length = len(tokens)\n",
    "        \n",
    "        new_tokens = 750\n",
    "        \n",
    "        text = f\"<s>[INST] {prompt} [/INST]\"\n",
    "\n",
    "        device = \"cuda:0\"\n",
    "\n",
    "        inputs = self.tokenizer(text, return_tensors=\"pt\").to(device)\n",
    "\n",
    "        generation_config = transformers.GenerationConfig(\n",
    "                    pad_token_id=self.tokenizer.pad_token_id,\n",
    "                    max_new_tokens = 200\n",
    "                )\n",
    "\n",
    "        outputs = self.model.generate(**inputs, generation_config=generation_config)\n",
    "        llm_output = self.tokenizer.decode(outputs[0], skip_special_tokens=True)\n",
    "        result = llm_output.replace(f\"[INST] {prompt} [/INST]\", '')\n",
    "        return {'text_from_llm': result}\n"
   ]
  },
  {
   "cell_type": "code",
   "execution_count": 2,
   "id": "db7dc2ef",
   "metadata": {},
   "outputs": [],
   "source": [
    "import pandas as pd\n",
    "import numpy as np\n",
    "import mlflow\n",
    "from mlflow.models.signature import ModelSignature\n",
    "from mlflow.types import DataType, Schema, ColSpec, ParamSchema, ParamSpec\n",
    "\n",
    "# Define input and output schema\n",
    "input_schema = Schema(\n",
    "    [\n",
    "        ColSpec(DataType.string, \"prompt\"),\n",
    "    ]\n",
    ")\n",
    "output_schema = Schema([ColSpec(DataType.string, \"text_from_llm\")])\n",
    "\n",
    "parameters = ParamSchema(\n",
    "    [       \n",
    "    ]\n",
    ")\n",
    "\n",
    "signature = ModelSignature(inputs=input_schema, outputs=output_schema, params=parameters)\n",
    "\n",
    "\n",
    "# Define input example\n",
    "input_example = pd.DataFrame({\"prompt\": [\"What is machine learning?\"]})"
   ]
  },
  {
   "cell_type": "code",
   "execution_count": 6,
   "id": "f7847a28",
   "metadata": {},
   "outputs": [],
   "source": [
    "client = mlflow.MlflowClient()\n",
    "model_name=\"llama2-guanaco-sft-bryan\"\n",
    "registered_model = None\n",
    "try:\n",
    "    registered_model = client.create_registered_model(model_name)\n",
    "except:\n",
    "     registered_model = client.get_registered_model(model_name)"
   ]
  },
  {
   "cell_type": "code",
   "execution_count": 7,
   "id": "d3ff0b27",
   "metadata": {},
   "outputs": [
    {
     "data": {
      "text/plain": [
       "{'loss': 1.3946,\n",
       " 'learning_rate': 0.0002,\n",
       " 'epoch': 1.0,\n",
       " 'train_runtime': 2060.1701,\n",
       " 'train_samples_per_second': 0.485,\n",
       " 'train_steps_per_second': 0.061,\n",
       " 'total_flos': 8971066649149440.0,\n",
       " 'train_loss': 1.3884320373535157}"
      ]
     },
     "execution_count": 7,
     "metadata": {},
     "output_type": "execute_result"
    }
   ],
   "source": [
    "import mlflow\n",
    "run_id = \"6d55536a32874c708ed1743d72c92927\"\n",
    "r = mlflow.get_run(run_id)\n",
    "r.data.params\n",
    "r.data.metrics"
   ]
  },
  {
   "cell_type": "code",
   "execution_count": 8,
   "id": "ecb8bb56",
   "metadata": {},
   "outputs": [
    {
     "data": {
      "application/vnd.jupyter.widget-view+json": {
       "model_id": "20b3802a1b5440f2aa8facf6c497abed",
       "version_major": 2,
       "version_minor": 0
      },
      "text/plain": [
       "Downloading artifacts:   0%|          | 0/25 [00:00<?, ?it/s]"
      ]
     },
     "metadata": {},
     "output_type": "display_data"
    },
    {
     "name": "stderr",
     "output_type": "stream",
     "text": [
      "2024/11/28 07:41:02 INFO mlflow.store.artifact.artifact_repo: The progress bar can be disabled by setting the environment variable MLFLOW_ENABLE_ARTIFACTS_PROGRESS_BAR to false\n",
      "2024/11/28 07:41:05 INFO mlflow.tracking._model_registry.client: Waiting up to 300 seconds for model version to finish creation. Model name: llama2-guanaco-sft-bryan, version 1\n"
     ]
    },
    {
     "name": "stdout",
     "output_type": "stream",
     "text": [
      "runs:/defb75b81e63454dbf7f72630bbd073a/llama2-guanaco-sft-bryan\n",
      "Name: llama2-guanaco-sft-bryan\n",
      "Version: 1\n",
      "Description: \n",
      "Status: READY\n",
      "Stage: None\n"
     ]
    }
   ],
   "source": [
    "import peft\n",
    "import trl\n",
    "import torch\n",
    "import transformers\n",
    "\n",
    "\n",
    "from mlflow.store.artifact.runs_artifact_repo import RunsArtifactRepository\n",
    "\n",
    "# Get the current base version of torch that is installed, without specific version modifiers\n",
    "torch_version = torch.__version__.split(\"+\")[0]\n",
    "\n",
    "# Start an MLflow run context and log the llama2-7B model wrapper along with the param-included signature to\n",
    "# allow for overriding parameters at inference time\n",
    "with mlflow.start_run() as run:\n",
    "    mlflow.log_params(r.data.params)\n",
    "    mlflow.log_metrics(r.data.metrics)\n",
    "\n",
    "       \n",
    "    model_info = mlflow.pyfunc.log_model(\n",
    "        model_name,\n",
    "        python_model=MyModel(),\n",
    "        # NOTE: the artifacts dictionary mapping is critical! This dict is used by the load_context() method in our MyModel() class.\n",
    "        artifacts={\"snapshot\": '/mnt/code'},\n",
    "        pip_requirements=[\n",
    "            f\"torch=={torch_version}\",\n",
    "            f\"transformers=={transformers.__version__}\",                        \n",
    "            f\"peft=={peft.__version__}\",\n",
    "            f\"trl=={trl.__version__}\",            \n",
    "            \"einops\",\n",
    "            \"sentencepiece\",\n",
    "        ],\n",
    "        input_example=input_example,\n",
    "        signature=signature,\n",
    "    )\n",
    "    runs_uri = model_info.model_uri\n",
    "    print(runs_uri)\n",
    "    # Create a new model version of the RandomForestRegression model from this run\n",
    "    \n",
    "    model_src = RunsArtifactRepository.get_underlying_uri(runs_uri)\n",
    "    mv = client.create_model_version(model_name, model_src, run.info.run_id)\n",
    "    print(\"Name: {}\".format(mv.name))\n",
    "    print(\"Version: {}\".format(mv.version))\n",
    "    print(\"Description: {}\".format(mv.description))\n",
    "    print(\"Status: {}\".format(mv.status))\n",
    "    print(\"Stage: {}\".format(mv.current_stage))"
   ]
  },
  {
   "cell_type": "code",
   "execution_count": 9,
   "id": "a951139d",
   "metadata": {},
   "outputs": [],
   "source": [
    "import os\n",
    "project_id = os.listdir('/artifacts/mlflow')[0]\n",
    "prefix = f\"{project_id}/version0\"\n",
    "ft_model_name = \"final_merged_checkpoint\"\n",
    "model_cache = \"llama2-model-cache\"\n",
    "model_tokenizer_path = f\"/artifacts/mlflow/{prefix}/{ft_model_name}\""
   ]
  },
  {
   "cell_type": "code",
   "execution_count": 10,
   "id": "644c1a54-7f2f-4911-b5a8-81732c06a058",
   "metadata": {},
   "outputs": [
    {
     "data": {
      "text/plain": [
       "'/artifacts/mlflow/66e3174c384e5c755cbae633/version0/final_merged_checkpoint'"
      ]
     },
     "execution_count": 10,
     "metadata": {},
     "output_type": "execute_result"
    }
   ],
   "source": [
    "model_tokenizer_path"
   ]
  },
  {
   "cell_type": "code",
   "execution_count": null,
   "id": "eb533fec-89b1-44be-9f9c-f8ecf5af0e81",
   "metadata": {},
   "outputs": [],
   "source": []
  }
 ],
 "metadata": {
  "kernelspec": {
   "display_name": "Python 3 (ipykernel)",
   "language": "python",
   "name": "python3"
  },
  "language_info": {
   "codemirror_mode": {
    "name": "ipython",
    "version": 3
   },
   "file_extension": ".py",
   "mimetype": "text/x-python",
   "name": "python",
   "nbconvert_exporter": "python",
   "pygments_lexer": "ipython3",
   "version": "3.9.18"
  }
 },
 "nbformat": 4,
 "nbformat_minor": 5
}
